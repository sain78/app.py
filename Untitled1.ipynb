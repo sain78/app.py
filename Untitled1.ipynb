{
  "nbformat": 4,
  "nbformat_minor": 0,
  "metadata": {
    "colab": {
      "provenance": [],
      "authorship_tag": "ABX9TyNt7I8c+VeHUIj0/q89u+7J",
      "include_colab_link": true
    },
    "kernelspec": {
      "name": "python3",
      "display_name": "Python 3"
    },
    "language_info": {
      "name": "python"
    }
  },
  "cells": [
    {
      "cell_type": "markdown",
      "metadata": {
        "id": "view-in-github",
        "colab_type": "text"
      },
      "source": [
        "<a href=\"https://colab.research.google.com/github/sain78/app.py/blob/main/Untitled1.ipynb\" target=\"_parent\"><img src=\"https://colab.research.google.com/assets/colab-badge.svg\" alt=\"Open In Colab\"/></a>"
      ]
    },
    {
      "cell_type": "code",
      "execution_count": 1,
      "metadata": {
        "colab": {
          "base_uri": "https://localhost:8080/"
        },
        "id": "d_6xvWrm5St8",
        "outputId": "07a1ed84-6753-45e4-d5e8-e16a5d826e80"
      },
      "outputs": [
        {
          "output_type": "stream",
          "name": "stdout",
          "text": [
            "Enter first number: 20\n",
            "Enter second number: 20\n",
            "Enter operation (+, -, *, /): +\n",
            "Result: 40.0\n"
          ]
        }
      ],
      "source": [
        "# Simple Calculator\n",
        "\n",
        "# Function to perform the basic operations\n",
        "def calculator(num1, num2, operation):\n",
        "    if operation == '+':\n",
        "        return num1 + num2\n",
        "    elif operation == '-':\n",
        "        return num1 - num2\n",
        "    elif operation == '*':\n",
        "        return num1 * num2\n",
        "    elif operation == '/':\n",
        "        if num2 != 0:\n",
        "            return num1 / num2\n",
        "        else:\n",
        "            return \"Cannot divide by zero\"\n",
        "    else:\n",
        "        return \"Invalid operation\"\n",
        "\n",
        "# Input from the user\n",
        "num1 = float(input(\"Enter first number: \"))\n",
        "num2 = float(input(\"Enter second number: \"))\n",
        "operation = input(\"Enter operation (+, -, *, /): \")\n",
        "\n",
        "# Calculate and display result\n",
        "result = calculator(num1, num2, operation)\n",
        "print(f\"Result: {result}\")\n"
      ]
    }
  ]
}