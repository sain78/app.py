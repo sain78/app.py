{
  "nbformat": 4,
  "nbformat_minor": 0,
  "metadata": {
    "colab": {
      "provenance": [],
      "authorship_tag": "ABX9TyN0qd6p9bubLMH881pxGIGL",
      "include_colab_link": true
    },
    "kernelspec": {
      "name": "python3",
      "display_name": "Python 3"
    },
    "language_info": {
      "name": "python"
    }
  },
  "cells": [
    {
      "cell_type": "markdown",
      "metadata": {
        "id": "view-in-github",
        "colab_type": "text"
      },
      "source": [
        "<a href=\"https://colab.research.google.com/github/sain78/app.py/blob/main/doctor_REG.ipynb\" target=\"_parent\"><img src=\"https://colab.research.google.com/assets/colab-badge.svg\" alt=\"Open In Colab\"/></a>"
      ]
    },
    {
      "cell_type": "code",
      "source": [
        "!pip install gradio scikit-learn pandas"
      ],
      "metadata": {
        "id": "SSlKke1cAuyB"
      },
      "execution_count": 19,
      "outputs": []
    },
    {
      "cell_type": "code",
      "execution_count": 23,
      "metadata": {
        "colab": {
          "base_uri": "https://localhost:8080/",
          "height": 521
        },
        "id": "CVn59KF4Ah--",
        "outputId": "0202927c-826e-46c7-a782-6be30d58f915"
      },
      "outputs": [
        {
          "output_type": "display_data",
          "data": {
            "text/plain": [
              "<IPython.core.display.HTML object>"
            ],
            "text/html": [
              "<div><iframe src=\"https://2650ad85ca1f045049.gradio.live\" width=\"100%\" height=\"500\" allow=\"autoplay; camera; microphone; clipboard-read; clipboard-write;\" frameborder=\"0\" allowfullscreen></iframe></div>"
            ]
          },
          "metadata": {}
        },
        {
          "output_type": "execute_result",
          "data": {
            "text/plain": []
          },
          "metadata": {},
          "execution_count": 23
        }
      ],
      "source": [
        "import gradio as gr\n",
        "import pandas as pd\n",
        "from sklearn.model_selection import train_test_split\n",
        "from sklearn.naive_bayes import MultinomialNB\n",
        "from sklearn.feature_extraction.text import CountVectorizer\n",
        "from sklearn.pipeline import make_pipeline\n",
        "\n",
        "# Apne dataset ko load karen (CSV file ke path ko update karen)\n",
        "df = pd.read_csv('/content/expanded_doctor_suggestion_dataset.csv')\n",
        "\n",
        "# Preprocessing - Vectorizing 'Disease' aur 'Doctor Ka Shuba' ke liye\n",
        "X = df['Disease']  # Disease column (Bimari ki jagah Disease use kiya gaya hai)\n",
        "y = df['Doctor Ka Shuba']  # Doctor specialty ka column\n",
        "\n",
        "# Train-test split\n",
        "X_train, X_test, y_train, y_test = train_test_split(X, y, test_size=0.2, random_state=42)\n",
        "\n",
        "# Model pipeline (Naive Bayes with CountVectorizer)\n",
        "model = make_pipeline(CountVectorizer(), MultinomialNB())\n",
        "model.fit(X_train, y_train)\n",
        "\n",
        "# Function to recommend doctor and hospital based on illness input\n",
        "def recommend_doctor(disease):  # 'illness' ko 'disease' se replace kiya gaya hai\n",
        "    # Exact matching - Bimari ko lowercase mein convert kar ke match karte hain\n",
        "    filtered_data = df[df['Disease'].str.lower() == disease.lower()]\n",
        "\n",
        "    # Check if any matching doctors are found\n",
        "    if filtered_data.empty:\n",
        "        return \"No matching doctor found for this disease. Please check the spelling or try another disease.\"\n",
        "\n",
        "    # Prepare the output with multiple doctors if available\n",
        "    recommendations = []\n",
        "    for index, row in filtered_data.iterrows():\n",
        "        doctor_name = row['Doctor Ka Naam']\n",
        "        doctor_specialty = row['Doctor Ka Shuba']\n",
        "        hospital = row['Hospital']\n",
        "        location = row['Location']\n",
        "        experience = row['Tajurba (saal mein)']\n",
        "\n",
        "        recommendations.append(f\"Doctor: {doctor_name}\\nSpecialty: {doctor_specialty}\\nHospital: {hospital}\\nLocation: {location}\\nExperience: {experience} years\\n\")\n",
        "\n",
        "    # Return all doctor recommendations\n",
        "    return \"\\n\".join(recommendations)\n",
        "\n",
        "# Gradio Interface\n",
        "interface = gr.Interface(fn=recommend_doctor,\n",
        "                         inputs=gr.Textbox(label=\"Enter your Disease (Bimari)\"),\n",
        "                         outputs=gr.Textbox(label=\"Recommended Doctor and Hospital\"))\n",
        "\n",
        "# Launch the Gradio interface\n",
        "interface.launch()\n"
      ]
    }
  ]
}